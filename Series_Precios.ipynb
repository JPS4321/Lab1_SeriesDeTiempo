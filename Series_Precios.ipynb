{
 "cells": [
  {
   "cell_type": "markdown",
   "id": "a0f400b2",
   "metadata": {},
   "source": [
    "### **Datos de Precios**"
   ]
  },
  {
   "cell_type": "code",
   "execution_count": null,
   "id": "7891cf57",
   "metadata": {},
   "outputs": [],
   "source": [
    "import pandas as pd\n",
    "import matplotlib.pyplot as plt\n",
    "import seaborn as sns\n",
    "from scipy.stats import shapiro"
   ]
  },
  {
   "cell_type": "code",
   "execution_count": null,
   "id": "798587cd",
   "metadata": {},
   "outputs": [],
   "source": [
    "\n",
    "# Leer todas las hojas del archivo\n",
    "xls = pd.ExcelFile(\"Precios-Promedio-Nacionales-Diarios-2025-1.xlsx\")\n",
    "df_list = []\n",
    "\n",
    "for sheet in xls.sheet_names:\n",
    "    df = pd.read_excel(xls, sheet_name=sheet, skiprows=7)\n",
    "    df = df.dropna(how='all')  # Eliminar filas completamente vacías\n",
    "    df_list.append(df)\n",
    "\n",
    "# Unir todas las hojas en un solo DataFrame\n",
    "df_total = pd.concat(df_list, ignore_index=True)\n",
    "columnas_deseadas = ['FECHA', 'Superior', 'Regular', 'Diesel', 'Glp Cilindro 25Lbs.']\n",
    "df_Precios = df_total[columnas_deseadas]\n",
    "# Ver los primeros datos\n",
    "df_Precios.head()\n"
   ]
  }
 ],
 "metadata": {
  "kernelspec": {
   "display_name": "Python 3",
   "language": "python",
   "name": "python3"
  },
  "language_info": {
   "name": "python",
   "version": "3.10.4"
  }
 },
 "nbformat": 4,
 "nbformat_minor": 5
}
