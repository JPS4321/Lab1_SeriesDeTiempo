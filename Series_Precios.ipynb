{
 "cells": [
  {
   "cell_type": "markdown",
   "id": "a0f400b2",
   "metadata": {},
   "source": [
    "### **Datos de Precios**"
   ]
  },
  {
   "cell_type": "code",
   "execution_count": 39,
   "id": "7891cf57",
   "metadata": {},
   "outputs": [],
   "source": [
    "import pandas as pd\n",
    "import matplotlib.pyplot as plt\n",
    "import seaborn as sns\n",
    "from scipy.stats import shapiro"
   ]
  },
  {
   "cell_type": "code",
   "execution_count": 40,
   "id": "798587cd",
   "metadata": {},
   "outputs": [
    {
     "data": {
      "text/html": [
       "<div>\n",
       "<style scoped>\n",
       "    .dataframe tbody tr th:only-of-type {\n",
       "        vertical-align: middle;\n",
       "    }\n",
       "\n",
       "    .dataframe tbody tr th {\n",
       "        vertical-align: top;\n",
       "    }\n",
       "\n",
       "    .dataframe thead th {\n",
       "        text-align: right;\n",
       "    }\n",
       "</style>\n",
       "<table border=\"1\" class=\"dataframe\">\n",
       "  <thead>\n",
       "    <tr style=\"text-align: right;\">\n",
       "      <th></th>\n",
       "      <th>FECHA</th>\n",
       "      <th>Superior</th>\n",
       "      <th>Regular</th>\n",
       "      <th>Diesel</th>\n",
       "      <th>Glp Cilindro 25Lbs.</th>\n",
       "    </tr>\n",
       "  </thead>\n",
       "  <tbody>\n",
       "    <tr>\n",
       "      <th>0</th>\n",
       "      <td>2025-01-01 00:00:00</td>\n",
       "      <td>28.95</td>\n",
       "      <td>27.45</td>\n",
       "      <td>25.47</td>\n",
       "      <td>110.0</td>\n",
       "    </tr>\n",
       "    <tr>\n",
       "      <th>1</th>\n",
       "      <td>2025-01-02 00:00:00</td>\n",
       "      <td>28.95</td>\n",
       "      <td>27.45</td>\n",
       "      <td>25.47</td>\n",
       "      <td>110.0</td>\n",
       "    </tr>\n",
       "    <tr>\n",
       "      <th>2</th>\n",
       "      <td>2025-01-03 00:00:00</td>\n",
       "      <td>28.95</td>\n",
       "      <td>27.45</td>\n",
       "      <td>25.47</td>\n",
       "      <td>110.0</td>\n",
       "    </tr>\n",
       "    <tr>\n",
       "      <th>3</th>\n",
       "      <td>2025-01-04 00:00:00</td>\n",
       "      <td>28.95</td>\n",
       "      <td>27.45</td>\n",
       "      <td>25.47</td>\n",
       "      <td>110.0</td>\n",
       "    </tr>\n",
       "    <tr>\n",
       "      <th>4</th>\n",
       "      <td>2025-01-05 00:00:00</td>\n",
       "      <td>28.95</td>\n",
       "      <td>27.45</td>\n",
       "      <td>25.47</td>\n",
       "      <td>110.0</td>\n",
       "    </tr>\n",
       "  </tbody>\n",
       "</table>\n",
       "</div>"
      ],
      "text/plain": [
       "                 FECHA  Superior  Regular  Diesel  Glp Cilindro 25Lbs.\n",
       "0  2025-01-01 00:00:00     28.95    27.45   25.47                110.0\n",
       "1  2025-01-02 00:00:00     28.95    27.45   25.47                110.0\n",
       "2  2025-01-03 00:00:00     28.95    27.45   25.47                110.0\n",
       "3  2025-01-04 00:00:00     28.95    27.45   25.47                110.0\n",
       "4  2025-01-05 00:00:00     28.95    27.45   25.47                110.0"
      ]
     },
     "execution_count": 40,
     "metadata": {},
     "output_type": "execute_result"
    }
   ],
   "source": [
    "\n",
    "# Leer todas las hojas del archivo\n",
    "xls = pd.ExcelFile(\"Precios-Promedio-Nacionales-Diarios-2025-1.xlsx\")\n",
    "df_list = []\n",
    "\n",
    "for sheet in xls.sheet_names:\n",
    "    df = pd.read_excel(xls, sheet_name=sheet, skiprows=7)\n",
    "    df = df.dropna(how='all')  # Eliminar filas completamente vacías\n",
    "    df_list.append(df)\n",
    "\n",
    "# Unir todas las hojas en un solo DataFrame\n",
    "df_total = pd.concat(df_list, ignore_index=True)\n",
    "columnas_deseadas = ['FECHA', 'Superior', 'Regular', 'Diesel', 'Glp Cilindro 25Lbs.']\n",
    "df_Precios = df_total[columnas_deseadas]\n",
    "# Ver los primeros datos\n",
    "df_Precios.head()\n"
   ]
  },
  {
   "cell_type": "code",
   "execution_count": 41,
   "id": "d4028c67",
   "metadata": {},
   "outputs": [],
   "source": [
    "df_Precios = df_Precios.dropna(how='all')\n",
    "df_Precios = df_Precios.dropna(subset=['FECHA', 'Superior', 'Regular', 'Diesel', 'Glp Cilindro 25Lbs.'])\n",
    "df_Precios = df_Precios.rename(columns={\"Glp Cilindro 25Lbs.\": \"Gas Licuado De Petróleo\"})\n",
    "df_Precios = df_Precios.rename(columns={\"FECHA\": \"Fecha\"})\n",
    "\n"
   ]
  },
  {
   "cell_type": "code",
   "execution_count": 42,
   "id": "53ecc8ee",
   "metadata": {},
   "outputs": [
    {
     "data": {
      "text/html": [
       "<div>\n",
       "<style scoped>\n",
       "    .dataframe tbody tr th:only-of-type {\n",
       "        vertical-align: middle;\n",
       "    }\n",
       "\n",
       "    .dataframe tbody tr th {\n",
       "        vertical-align: top;\n",
       "    }\n",
       "\n",
       "    .dataframe thead th {\n",
       "        text-align: right;\n",
       "    }\n",
       "</style>\n",
       "<table border=\"1\" class=\"dataframe\">\n",
       "  <thead>\n",
       "    <tr style=\"text-align: right;\">\n",
       "      <th></th>\n",
       "      <th>Fecha</th>\n",
       "      <th>Superior</th>\n",
       "      <th>Regular</th>\n",
       "      <th>Diesel</th>\n",
       "      <th>Gas Licuado De Petróleo</th>\n",
       "    </tr>\n",
       "  </thead>\n",
       "  <tbody>\n",
       "    <tr>\n",
       "      <th>0</th>\n",
       "      <td>2025-01-01 00:00:00</td>\n",
       "      <td>28.95</td>\n",
       "      <td>27.45</td>\n",
       "      <td>25.47</td>\n",
       "      <td>110.0</td>\n",
       "    </tr>\n",
       "    <tr>\n",
       "      <th>1</th>\n",
       "      <td>2025-01-02 00:00:00</td>\n",
       "      <td>28.95</td>\n",
       "      <td>27.45</td>\n",
       "      <td>25.47</td>\n",
       "      <td>110.0</td>\n",
       "    </tr>\n",
       "    <tr>\n",
       "      <th>2</th>\n",
       "      <td>2025-01-03 00:00:00</td>\n",
       "      <td>28.95</td>\n",
       "      <td>27.45</td>\n",
       "      <td>25.47</td>\n",
       "      <td>110.0</td>\n",
       "    </tr>\n",
       "    <tr>\n",
       "      <th>3</th>\n",
       "      <td>2025-01-04 00:00:00</td>\n",
       "      <td>28.95</td>\n",
       "      <td>27.45</td>\n",
       "      <td>25.47</td>\n",
       "      <td>110.0</td>\n",
       "    </tr>\n",
       "    <tr>\n",
       "      <th>4</th>\n",
       "      <td>2025-01-05 00:00:00</td>\n",
       "      <td>28.95</td>\n",
       "      <td>27.45</td>\n",
       "      <td>25.47</td>\n",
       "      <td>110.0</td>\n",
       "    </tr>\n",
       "  </tbody>\n",
       "</table>\n",
       "</div>"
      ],
      "text/plain": [
       "                 Fecha  Superior  Regular  Diesel  Gas Licuado De Petróleo\n",
       "0  2025-01-01 00:00:00     28.95    27.45   25.47                    110.0\n",
       "1  2025-01-02 00:00:00     28.95    27.45   25.47                    110.0\n",
       "2  2025-01-03 00:00:00     28.95    27.45   25.47                    110.0\n",
       "3  2025-01-04 00:00:00     28.95    27.45   25.47                    110.0\n",
       "4  2025-01-05 00:00:00     28.95    27.45   25.47                    110.0"
      ]
     },
     "execution_count": 42,
     "metadata": {},
     "output_type": "execute_result"
    }
   ],
   "source": [
    "df_Precios.head()\n"
   ]
  },
  {
   "cell_type": "code",
   "execution_count": 43,
   "id": "4695e8fc",
   "metadata": {},
   "outputs": [],
   "source": [
    "df_Precios[\"Fecha\"] = pd.to_datetime(df_Precios[\"Fecha\"], errors=\"coerce\")\n",
    "df_Precios.set_index(\"Fecha\", inplace=True)\n"
   ]
  }
 ],
 "metadata": {
  "kernelspec": {
   "display_name": "Python 3",
   "language": "python",
   "name": "python3"
  },
  "language_info": {
   "codemirror_mode": {
    "name": "ipython",
    "version": 3
   },
   "file_extension": ".py",
   "mimetype": "text/x-python",
   "name": "python",
   "nbconvert_exporter": "python",
   "pygments_lexer": "ipython3",
   "version": "3.10.4"
  }
 },
 "nbformat": 4,
 "nbformat_minor": 5
}
