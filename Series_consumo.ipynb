{
 "cells": [
  {
   "cell_type": "markdown",
   "id": "14604c1b",
   "metadata": {},
   "source": [
    "### **Datos de Consumo**\n",
    "#### **Consumo 2025**"
   ]
  },
  {
   "cell_type": "code",
   "execution_count": 2,
   "id": "fbedd4f0",
   "metadata": {},
   "outputs": [],
   "source": [
    "import pandas as pd\n",
    "import matplotlib.pyplot as plt\n",
    "import seaborn as sns\n",
    "from scipy.stats import shapiro"
   ]
  },
  {
   "cell_type": "code",
   "execution_count": 3,
   "id": "66a059dd",
   "metadata": {},
   "outputs": [
    {
     "name": "stdout",
     "output_type": "stream",
     "text": [
      "   Gasolina regular  Gasolina superior      Diesel  Gas licuado de petróleo  \\\n",
      "0         828269.64          702319.64  1399798.38                581794.25   \n",
      "1         781113.92          651035.74  1343721.50                586541.02   \n",
      "2         895068.46          763939.48  1456533.00                589796.81   \n",
      "3         878741.74          746081.22  1384488.46                581405.92   \n",
      "4         893158.40          761100.59  1416602.71                594599.75   \n",
      "\n",
      "       Fecha  \n",
      "0 2025-01-01  \n",
      "1 2025-02-01  \n",
      "2 2025-03-01  \n",
      "3 2025-04-01  \n",
      "4 2025-05-01  \n"
     ]
    }
   ],
   "source": [
    "df = pd.read_excel(\"VENTAS-HIDROCARBUROS-2025-05.xlsx\", skiprows=6)\n",
    "\n",
    "# Eliminar filas completamente vacías\n",
    "df = df.dropna(how='all')\n",
    "\n",
    "# Convertir la columna de fecha antes de filtrar\n",
    "df[\"Fecha\"] = pd.to_datetime(df[\"Fecha\"], errors=\"coerce\")\n",
    "\n",
    "# Filtrar columnas deseadas\n",
    "df_consumo_2025 = df[[\n",
    "    \"Gasolina regular\",\n",
    "    \"Gasolina superior\",\n",
    "    \"Diesel bajo azufre\",\n",
    "    \"Gas licuado de petróleo\",\n",
    "    \"Fecha\"\n",
    "]]\n",
    "\n",
    "# Renombrar la columna\n",
    "df_consumo_2025 = df_consumo_2025.rename(columns={\"Diesel bajo azufre\": \"Diesel\"})\n",
    "\n",
    "# Verificar\n",
    "print(df_consumo_2025.head())\n"
   ]
  },
  {
   "cell_type": "markdown",
   "id": "64e46845",
   "metadata": {},
   "source": [
    "#### **Consumo hasta 2024**"
   ]
  },
  {
   "cell_type": "code",
   "execution_count": 4,
   "id": "1a7feccf",
   "metadata": {},
   "outputs": [
    {
     "name": "stdout",
     "output_type": "stream",
     "text": [
      "   Gasolina regular  Gasolina superior     Diesel  Gas licuado de petróleo  \\\n",
      "0         202645.20          308156.82  634667.06            194410.476190   \n",
      "1         205530.96          307766.31  642380.66            174710.552381   \n",
      "2         229499.56          331910.29  699807.25            189234.066667   \n",
      "3         210680.40          315648.08  586803.98            174330.607143   \n",
      "4         208164.34          319667.97  656948.20            191745.147619   \n",
      "\n",
      "       Fecha  \n",
      "0 2000-01-01  \n",
      "1 2000-02-01  \n",
      "2 2000-03-01  \n",
      "3 2000-04-01  \n",
      "4 2000-05-01  \n"
     ]
    }
   ],
   "source": [
    "\n",
    "\n",
    "df = pd.read_excel(\"CONSUMO-HIDROCARBUROS-2024-12.xlsx\", skiprows=6)\n",
    "df = df.dropna(how='all')\n",
    "\n",
    "\n",
    "df[\"Diesel\"] = df[\"Diesel bajo azufre\"] + df[\"Diesel alto azufre\"]\n",
    "\n",
    "\n",
    "df[\"Fecha\"] = pd.to_datetime(df[\"Fecha\"], errors=\"coerce\")\n",
    "\n",
    "\n",
    "df_consumo_hasta2024 = df[[\n",
    "    \"Gasolina regular\",\n",
    "    \"Gasolina superior\",\n",
    "    \"Diesel\",\n",
    "    \"Gas licuado de petróleo\",\n",
    "    \"Fecha\"\n",
    "]]\n",
    "\n",
    "\n",
    "print(df_consumo_hasta2024.head())\n"
   ]
  },
  {
   "cell_type": "code",
   "execution_count": 5,
   "id": "ec0a4c32",
   "metadata": {},
   "outputs": [],
   "source": [
    "# Unir df_2024 y df_2025 verticalmente\n",
    "df_consumo_total = pd.concat([df_consumo_hasta2024, df_consumo_2025], ignore_index=True)\n"
   ]
  },
  {
   "cell_type": "code",
   "execution_count": 6,
   "id": "0286ff49",
   "metadata": {},
   "outputs": [
    {
     "data": {
      "text/html": [
       "<div>\n",
       "<style scoped>\n",
       "    .dataframe tbody tr th:only-of-type {\n",
       "        vertical-align: middle;\n",
       "    }\n",
       "\n",
       "    .dataframe tbody tr th {\n",
       "        vertical-align: top;\n",
       "    }\n",
       "\n",
       "    .dataframe thead th {\n",
       "        text-align: right;\n",
       "    }\n",
       "</style>\n",
       "<table border=\"1\" class=\"dataframe\">\n",
       "  <thead>\n",
       "    <tr style=\"text-align: right;\">\n",
       "      <th></th>\n",
       "      <th>Gasolina regular</th>\n",
       "      <th>Gasolina superior</th>\n",
       "      <th>Diesel</th>\n",
       "      <th>Gas licuado de petróleo</th>\n",
       "      <th>Fecha</th>\n",
       "    </tr>\n",
       "  </thead>\n",
       "  <tbody>\n",
       "    <tr>\n",
       "      <th>0</th>\n",
       "      <td>202645.20</td>\n",
       "      <td>308156.82</td>\n",
       "      <td>634667.06</td>\n",
       "      <td>194410.476190</td>\n",
       "      <td>2000-01-01</td>\n",
       "    </tr>\n",
       "    <tr>\n",
       "      <th>1</th>\n",
       "      <td>205530.96</td>\n",
       "      <td>307766.31</td>\n",
       "      <td>642380.66</td>\n",
       "      <td>174710.552381</td>\n",
       "      <td>2000-02-01</td>\n",
       "    </tr>\n",
       "    <tr>\n",
       "      <th>2</th>\n",
       "      <td>229499.56</td>\n",
       "      <td>331910.29</td>\n",
       "      <td>699807.25</td>\n",
       "      <td>189234.066667</td>\n",
       "      <td>2000-03-01</td>\n",
       "    </tr>\n",
       "    <tr>\n",
       "      <th>3</th>\n",
       "      <td>210680.40</td>\n",
       "      <td>315648.08</td>\n",
       "      <td>586803.98</td>\n",
       "      <td>174330.607143</td>\n",
       "      <td>2000-04-01</td>\n",
       "    </tr>\n",
       "    <tr>\n",
       "      <th>4</th>\n",
       "      <td>208164.34</td>\n",
       "      <td>319667.97</td>\n",
       "      <td>656948.20</td>\n",
       "      <td>191745.147619</td>\n",
       "      <td>2000-05-01</td>\n",
       "    </tr>\n",
       "  </tbody>\n",
       "</table>\n",
       "</div>"
      ],
      "text/plain": [
       "   Gasolina regular  Gasolina superior     Diesel  Gas licuado de petróleo  \\\n",
       "0         202645.20          308156.82  634667.06            194410.476190   \n",
       "1         205530.96          307766.31  642380.66            174710.552381   \n",
       "2         229499.56          331910.29  699807.25            189234.066667   \n",
       "3         210680.40          315648.08  586803.98            174330.607143   \n",
       "4         208164.34          319667.97  656948.20            191745.147619   \n",
       "\n",
       "       Fecha  \n",
       "0 2000-01-01  \n",
       "1 2000-02-01  \n",
       "2 2000-03-01  \n",
       "3 2000-04-01  \n",
       "4 2000-05-01  "
      ]
     },
     "execution_count": 6,
     "metadata": {},
     "output_type": "execute_result"
    }
   ],
   "source": [
    "df_consumo_total.head()"
   ]
  },
  {
   "cell_type": "code",
   "execution_count": null,
   "id": "33fc1b5f",
   "metadata": {},
   "outputs": [],
   "source": [
    "df_consumo_total.to_csv(\"consumo_completa.csv\", index=True)\n"
   ]
  }
 ],
 "metadata": {
  "kernelspec": {
   "display_name": "Python 3",
   "language": "python",
   "name": "python3"
  },
  "language_info": {
   "codemirror_mode": {
    "name": "ipython",
    "version": 3
   },
   "file_extension": ".py",
   "mimetype": "text/x-python",
   "name": "python",
   "nbconvert_exporter": "python",
   "pygments_lexer": "ipython3",
   "version": "3.13.2"
  }
 },
 "nbformat": 4,
 "nbformat_minor": 5
}
