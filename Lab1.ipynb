{
 "cells": [
  {
   "cell_type": "markdown",
   "id": "6de9be31",
   "metadata": {},
   "source": [
    "### **Laboratorio 1**"
   ]
  },
  {
   "cell_type": "markdown",
   "id": "ea817ea2",
   "metadata": {},
   "source": [
    "### **Carga de Datos de Importacion Hidrocarburos**"
   ]
  },
  {
   "cell_type": "code",
   "execution_count": 90,
   "id": "64672c6b",
   "metadata": {},
   "outputs": [],
   "source": [
    "import pandas as pd\n",
    "import matplotlib.pyplot as plt\n",
    "import seaborn as sns\n",
    "from scipy.stats import shapiro"
   ]
  },
  {
   "cell_type": "markdown",
   "id": "61458e1a",
   "metadata": {},
   "source": [
    "### **Datos de Importacion** "
   ]
  },
  {
   "cell_type": "code",
   "execution_count": 91,
   "id": "89a39717",
   "metadata": {},
   "outputs": [
    {
     "name": "stdout",
     "output_type": "stream",
     "text": [
      "['Fecha', 'Aceites lubricantes', 'Asfalto ', 'Bunker', 'Ceras', 'Combustible turbo jet', 'Diesel bajo azufre', 'Diesel ultra bajo azufre', 'Gas licuado de petróleo', 'Gasolina de aviación', 'Gasolina regular', 'Gasolina superior', 'Grasas lubricantes', 'Kerosina', 'Mezclas oleosas', 'Naftas', 'Petcoke', 'Petróleo crudo', 'Solventes', 'Butano', 'Diesel alto azufre', 'MTBE', 'Orimulsión', 'Petróleo reconstituido', 'Total importación']\n"
     ]
    }
   ],
   "source": [
    "df_import_2024 = pd.read_excel(\"IMPORTACION-HIDROCARBUROS-VOLUMEN-2024-12.xlsx\", skiprows=6)\n",
    "df_import_2025 = pd.read_excel(\"IMPORTACION-HIDROCARBUROS-VOLUMEN-2025-05.xlsx\", skiprows=6)\n",
    "\n",
    "print(df_import_2024.columns.tolist())"
   ]
  },
  {
   "cell_type": "code",
   "execution_count": 92,
   "id": "527dd594",
   "metadata": {},
   "outputs": [],
   "source": [
    "# Unir Alto Azufre y Bajo Azufre para Diésel\n",
    "df_import_2024[\"Diesel\"] = df_import_2024[\"Diesel alto azufre\"] + df_import_2024[\"Diesel bajo azufre\"]\n",
    "df_import_2025[\"Diesel\"] = df_import_2024[\"Diesel alto azufre\"] + df_import_2024[\"Diesel bajo azufre\"]\n"
   ]
  },
  {
   "cell_type": "code",
   "execution_count": 93,
   "id": "e29b883d",
   "metadata": {},
   "outputs": [],
   "source": [
    "# Unir los dos datasets\n",
    "df_total = pd.concat([df_import_2024, df_import_2025], ignore_index=True)\n",
    "\n",
    "# Convertir columna de fecha (ajustar nombre si es diferente)\n",
    "df_total[\"Fecha\"] = pd.to_datetime(df_total[\"Fecha\"], errors=\"coerce\")\n",
    "\n",
    "# Seleccionar columnas de interés\n",
    "cols = [\"Gasolina regular\", \"Gasolina superior\", \"Diesel\", \"Gas licuado de petróleo\"]\n",
    "df_comb = df_total[[\"Fecha\"] + cols].dropna()"
   ]
  },
  {
   "cell_type": "markdown",
   "id": "b8448fa0",
   "metadata": {},
   "source": [
    "### **Datos de Precios**"
   ]
  },
  {
   "cell_type": "code",
   "execution_count": 94,
   "id": "277b1c50",
   "metadata": {},
   "outputs": [
    {
     "data": {
      "text/html": [
       "<div>\n",
       "<style scoped>\n",
       "    .dataframe tbody tr th:only-of-type {\n",
       "        vertical-align: middle;\n",
       "    }\n",
       "\n",
       "    .dataframe tbody tr th {\n",
       "        vertical-align: top;\n",
       "    }\n",
       "\n",
       "    .dataframe thead th {\n",
       "        text-align: right;\n",
       "    }\n",
       "</style>\n",
       "<table border=\"1\" class=\"dataframe\">\n",
       "  <thead>\n",
       "    <tr style=\"text-align: right;\">\n",
       "      <th></th>\n",
       "      <th>FECHA</th>\n",
       "      <th>Superior</th>\n",
       "      <th>Regular</th>\n",
       "      <th>Diesel</th>\n",
       "      <th>Glp Cilindro 25Lbs.</th>\n",
       "    </tr>\n",
       "  </thead>\n",
       "  <tbody>\n",
       "    <tr>\n",
       "      <th>0</th>\n",
       "      <td>2025-01-01 00:00:00</td>\n",
       "      <td>28.95</td>\n",
       "      <td>27.45</td>\n",
       "      <td>25.47</td>\n",
       "      <td>110.0</td>\n",
       "    </tr>\n",
       "    <tr>\n",
       "      <th>1</th>\n",
       "      <td>2025-01-02 00:00:00</td>\n",
       "      <td>28.95</td>\n",
       "      <td>27.45</td>\n",
       "      <td>25.47</td>\n",
       "      <td>110.0</td>\n",
       "    </tr>\n",
       "    <tr>\n",
       "      <th>2</th>\n",
       "      <td>2025-01-03 00:00:00</td>\n",
       "      <td>28.95</td>\n",
       "      <td>27.45</td>\n",
       "      <td>25.47</td>\n",
       "      <td>110.0</td>\n",
       "    </tr>\n",
       "    <tr>\n",
       "      <th>3</th>\n",
       "      <td>2025-01-04 00:00:00</td>\n",
       "      <td>28.95</td>\n",
       "      <td>27.45</td>\n",
       "      <td>25.47</td>\n",
       "      <td>110.0</td>\n",
       "    </tr>\n",
       "    <tr>\n",
       "      <th>4</th>\n",
       "      <td>2025-01-05 00:00:00</td>\n",
       "      <td>28.95</td>\n",
       "      <td>27.45</td>\n",
       "      <td>25.47</td>\n",
       "      <td>110.0</td>\n",
       "    </tr>\n",
       "  </tbody>\n",
       "</table>\n",
       "</div>"
      ],
      "text/plain": [
       "                 FECHA  Superior  Regular  Diesel  Glp Cilindro 25Lbs.\n",
       "0  2025-01-01 00:00:00     28.95    27.45   25.47                110.0\n",
       "1  2025-01-02 00:00:00     28.95    27.45   25.47                110.0\n",
       "2  2025-01-03 00:00:00     28.95    27.45   25.47                110.0\n",
       "3  2025-01-04 00:00:00     28.95    27.45   25.47                110.0\n",
       "4  2025-01-05 00:00:00     28.95    27.45   25.47                110.0"
      ]
     },
     "execution_count": 94,
     "metadata": {},
     "output_type": "execute_result"
    }
   ],
   "source": [
    "\n",
    "# Leer todas las hojas del archivo\n",
    "xls = pd.ExcelFile(\"Precios-Promedio-Nacionales-Diarios-2025-1.xlsx\")\n",
    "df_list = []\n",
    "\n",
    "for sheet in xls.sheet_names:\n",
    "    df = pd.read_excel(xls, sheet_name=sheet, skiprows=7)\n",
    "    df = df.dropna(how='all')  # Eliminar filas completamente vacías\n",
    "    df_list.append(df)\n",
    "\n",
    "# Unir todas las hojas en un solo DataFrame\n",
    "df_total = pd.concat(df_list, ignore_index=True)\n",
    "columnas_deseadas = ['FECHA', 'Superior', 'Regular', 'Diesel', 'Glp Cilindro 25Lbs.']\n",
    "df_Precios = df_total[columnas_deseadas]\n",
    "# Ver los primeros datos\n",
    "df_Precios.head()\n"
   ]
  },
  {
   "cell_type": "markdown",
   "id": "3a728710",
   "metadata": {},
   "source": [
    "### **Datos de Consumo**"
   ]
  },
  {
   "cell_type": "markdown",
   "id": "82adbc2a",
   "metadata": {},
   "source": [
    "#### **Consumo 2025**"
   ]
  },
  {
   "cell_type": "code",
   "execution_count": 95,
   "id": "3d27d268",
   "metadata": {},
   "outputs": [
    {
     "name": "stdout",
     "output_type": "stream",
     "text": [
      "   Gasolina regular  Gasolina superior      Diesel  Gas licuado de petróleo  \\\n",
      "0         828269.64          702319.64  1399798.38                581794.25   \n",
      "1         781113.92          651035.74  1343721.50                586541.02   \n",
      "2         895068.46          763939.48  1456533.00                589796.81   \n",
      "3         878741.74          746081.22  1384488.46                581405.92   \n",
      "4         893158.40          761100.59  1416602.71                594599.75   \n",
      "\n",
      "       Fecha  \n",
      "0 2025-01-01  \n",
      "1 2025-02-01  \n",
      "2 2025-03-01  \n",
      "3 2025-04-01  \n",
      "4 2025-05-01  \n"
     ]
    }
   ],
   "source": [
    "df = pd.read_excel(\"VENTAS-HIDROCARBUROS-2025-05.xlsx\", skiprows=6)\n",
    "\n",
    "# Eliminar filas completamente vacías\n",
    "df = df.dropna(how='all')\n",
    "\n",
    "# Convertir la columna de fecha antes de filtrar\n",
    "df[\"Fecha\"] = pd.to_datetime(df[\"Fecha\"], errors=\"coerce\")\n",
    "\n",
    "# Filtrar columnas deseadas\n",
    "df_consumo_2025 = df[[\n",
    "    \"Gasolina regular\",\n",
    "    \"Gasolina superior\",\n",
    "    \"Diesel bajo azufre\",\n",
    "    \"Gas licuado de petróleo\",\n",
    "    \"Fecha\"\n",
    "]]\n",
    "\n",
    "# Renombrar la columna\n",
    "df_consumo_2025 = df_consumo_2025.rename(columns={\"Diesel bajo azufre\": \"Diesel\"})\n",
    "\n",
    "# Verificar\n",
    "print(df_consumo_2025.head())\n"
   ]
  },
  {
   "cell_type": "markdown",
   "id": "d657b54b",
   "metadata": {},
   "source": [
    "#### **Consumo hasta 2024**"
   ]
  },
  {
   "cell_type": "code",
   "execution_count": 96,
   "id": "0890c33e",
   "metadata": {},
   "outputs": [
    {
     "name": "stdout",
     "output_type": "stream",
     "text": [
      "   Gasolina regular  Gasolina superior     Diesel  Gas licuado de petróleo  \\\n",
      "0         202645.20          308156.82  634667.06            194410.476190   \n",
      "1         205530.96          307766.31  642380.66            174710.552381   \n",
      "2         229499.56          331910.29  699807.25            189234.066667   \n",
      "3         210680.40          315648.08  586803.98            174330.607143   \n",
      "4         208164.34          319667.97  656948.20            191745.147619   \n",
      "\n",
      "       Fecha  \n",
      "0 2000-01-01  \n",
      "1 2000-02-01  \n",
      "2 2000-03-01  \n",
      "3 2000-04-01  \n",
      "4 2000-05-01  \n"
     ]
    }
   ],
   "source": [
    "\n",
    "\n",
    "df = pd.read_excel(\"CONSUMO-HIDROCARBUROS-2024-12.xlsx\", skiprows=6)\n",
    "df = df.dropna(how='all')\n",
    "\n",
    "\n",
    "df[\"Diesel\"] = df[\"Diesel bajo azufre\"] + df[\"Diesel alto azufre\"]\n",
    "\n",
    "\n",
    "df[\"Fecha\"] = pd.to_datetime(df[\"Fecha\"], errors=\"coerce\")\n",
    "\n",
    "\n",
    "df_consumo_hasta2024 = df[[\n",
    "    \"Gasolina regular\",\n",
    "    \"Gasolina superior\",\n",
    "    \"Diesel\",\n",
    "    \"Gas licuado de petróleo\",\n",
    "    \"Fecha\"\n",
    "]]\n",
    "\n",
    "\n",
    "print(df_consumo_hasta2024.head())\n"
   ]
  },
  {
   "cell_type": "markdown",
   "id": "5f5fc62a",
   "metadata": {},
   "source": [
    "### **Unir ambos**"
   ]
  },
  {
   "cell_type": "code",
   "execution_count": 97,
   "id": "863c78ca",
   "metadata": {},
   "outputs": [],
   "source": [
    "# Unir df_2024 y df_2025 verticalmente\n",
    "df_consumo_total = pd.concat([df_consumo_hasta2024, df_consumo_2025], ignore_index=True)\n"
   ]
  },
  {
   "cell_type": "code",
   "execution_count": 98,
   "id": "f232ac53",
   "metadata": {},
   "outputs": [
    {
     "data": {
      "text/html": [
       "<div>\n",
       "<style scoped>\n",
       "    .dataframe tbody tr th:only-of-type {\n",
       "        vertical-align: middle;\n",
       "    }\n",
       "\n",
       "    .dataframe tbody tr th {\n",
       "        vertical-align: top;\n",
       "    }\n",
       "\n",
       "    .dataframe thead th {\n",
       "        text-align: right;\n",
       "    }\n",
       "</style>\n",
       "<table border=\"1\" class=\"dataframe\">\n",
       "  <thead>\n",
       "    <tr style=\"text-align: right;\">\n",
       "      <th></th>\n",
       "      <th>Gasolina regular</th>\n",
       "      <th>Gasolina superior</th>\n",
       "      <th>Diesel</th>\n",
       "      <th>Gas licuado de petróleo</th>\n",
       "      <th>Fecha</th>\n",
       "    </tr>\n",
       "  </thead>\n",
       "  <tbody>\n",
       "    <tr>\n",
       "      <th>0</th>\n",
       "      <td>202645.20</td>\n",
       "      <td>308156.82</td>\n",
       "      <td>634667.06</td>\n",
       "      <td>194410.476190</td>\n",
       "      <td>2000-01-01</td>\n",
       "    </tr>\n",
       "    <tr>\n",
       "      <th>1</th>\n",
       "      <td>205530.96</td>\n",
       "      <td>307766.31</td>\n",
       "      <td>642380.66</td>\n",
       "      <td>174710.552381</td>\n",
       "      <td>2000-02-01</td>\n",
       "    </tr>\n",
       "    <tr>\n",
       "      <th>2</th>\n",
       "      <td>229499.56</td>\n",
       "      <td>331910.29</td>\n",
       "      <td>699807.25</td>\n",
       "      <td>189234.066667</td>\n",
       "      <td>2000-03-01</td>\n",
       "    </tr>\n",
       "    <tr>\n",
       "      <th>3</th>\n",
       "      <td>210680.40</td>\n",
       "      <td>315648.08</td>\n",
       "      <td>586803.98</td>\n",
       "      <td>174330.607143</td>\n",
       "      <td>2000-04-01</td>\n",
       "    </tr>\n",
       "    <tr>\n",
       "      <th>4</th>\n",
       "      <td>208164.34</td>\n",
       "      <td>319667.97</td>\n",
       "      <td>656948.20</td>\n",
       "      <td>191745.147619</td>\n",
       "      <td>2000-05-01</td>\n",
       "    </tr>\n",
       "  </tbody>\n",
       "</table>\n",
       "</div>"
      ],
      "text/plain": [
       "   Gasolina regular  Gasolina superior     Diesel  Gas licuado de petróleo  \\\n",
       "0         202645.20          308156.82  634667.06            194410.476190   \n",
       "1         205530.96          307766.31  642380.66            174710.552381   \n",
       "2         229499.56          331910.29  699807.25            189234.066667   \n",
       "3         210680.40          315648.08  586803.98            174330.607143   \n",
       "4         208164.34          319667.97  656948.20            191745.147619   \n",
       "\n",
       "       Fecha  \n",
       "0 2000-01-01  \n",
       "1 2000-02-01  \n",
       "2 2000-03-01  \n",
       "3 2000-04-01  \n",
       "4 2000-05-01  "
      ]
     },
     "execution_count": 98,
     "metadata": {},
     "output_type": "execute_result"
    }
   ],
   "source": [
    "df_consumo_total.head()"
   ]
  }
 ],
 "metadata": {
  "kernelspec": {
   "display_name": "Python 3",
   "language": "python",
   "name": "python3"
  },
  "language_info": {
   "codemirror_mode": {
    "name": "ipython",
    "version": 3
   },
   "file_extension": ".py",
   "mimetype": "text/x-python",
   "name": "python",
   "nbconvert_exporter": "python",
   "pygments_lexer": "ipython3",
   "version": "3.13.2"
  }
 },
 "nbformat": 4,
 "nbformat_minor": 5
}
