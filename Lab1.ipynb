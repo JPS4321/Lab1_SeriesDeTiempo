{
 "cells": [
  {
   "cell_type": "markdown",
   "id": "6de9be31",
   "metadata": {},
   "source": [
    "### **Laboratorio 1**"
   ]
  },
  {
   "cell_type": "markdown",
   "id": "ea817ea2",
   "metadata": {},
   "source": [
    "### **Carga de Datos de Importacion Hidrocarburos**"
   ]
  },
  {
   "cell_type": "code",
   "execution_count": 20,
   "id": "64672c6b",
   "metadata": {},
   "outputs": [],
   "source": [
    "import pandas as pd\n",
    "import matplotlib.pyplot as plt\n",
    "import seaborn as sns\n",
    "from scipy.stats import shapiro"
   ]
  },
  {
   "cell_type": "markdown",
   "id": "61458e1a",
   "metadata": {},
   "source": [
    "### **Datos de Importacion** "
   ]
  },
  {
   "cell_type": "code",
   "execution_count": null,
   "id": "89a39717",
   "metadata": {},
   "outputs": [
    {
     "name": "stdout",
     "output_type": "stream",
     "text": [
      "['Fecha', 'Aceites lubricantes', 'Asfalto ', 'Bunker', 'Ceras', 'Combustible turbo jet', 'Diesel bajo azufre', 'Diesel ultra bajo azufre', 'Gas licuado de petróleo', 'Gasolina de aviación', 'Gasolina regular', 'Gasolina superior', 'Grasas lubricantes', 'Kerosina', 'Mezclas oleosas', 'Naftas', 'Petcoke', 'Petróleo crudo', 'Solventes', 'Butano', 'Diesel alto azufre', 'MTBE', 'Orimulsión', 'Petróleo reconstituido', 'Total importación']\n"
     ]
    }
   ],
   "source": [
    "df_import_2024 = pd.read_excel(\"IMPORTACION-HIDROCARBUROS-VOLUMEN-2024-12.xlsx\", skiprows=6)\n",
    "df_import_2025 = pd.read_excel(\"IMPORTACION-HIDROCARBUROS-VOLUMEN-2025-05.xlsx\", skiprows=6)\n",
    "\n",
    "print(df_import_2024.columns.tolist())"
   ]
  },
  {
   "cell_type": "code",
   "execution_count": null,
   "id": "527dd594",
   "metadata": {},
   "outputs": [],
   "source": [
    "# Unir Alto Azufre y Bajo Azufre para Diésel\n",
    "df_import_2024[\"Diésel\"] = df_import_2024[\"Diesel alto azufre\"] + df_import_2024[\"Diesel bajo azufre\"]\n",
    "df_import_2025[\"Diésel\"] = df_import_2024[\"Diesel alto azufre\"] + df_import_2024[\"Diesel bajo azufre\"]\n"
   ]
  },
  {
   "cell_type": "code",
   "execution_count": 24,
   "id": "e29b883d",
   "metadata": {},
   "outputs": [],
   "source": [
    "# Unir los dos datasets\n",
    "df_total = pd.concat([df_import_2024, df_import_2025], ignore_index=True)\n",
    "\n",
    "# Convertir columna de fecha (ajustar nombre si es diferente)\n",
    "df_total[\"Fecha\"] = pd.to_datetime(df_total[\"Fecha\"], errors=\"coerce\")\n",
    "\n",
    "# Seleccionar columnas de interés\n",
    "cols = [\"Gasolina regular\", \"Gasolina superior\", \"Diésel\", \"Gas licuado de petróleo\"]\n",
    "df_comb = df_total[[\"Fecha\"] + cols].dropna()"
   ]
  }
 ],
 "metadata": {
  "kernelspec": {
   "display_name": "Python 3",
   "language": "python",
   "name": "python3"
  },
  "language_info": {
   "codemirror_mode": {
    "name": "ipython",
    "version": 3
   },
   "file_extension": ".py",
   "mimetype": "text/x-python",
   "name": "python",
   "nbconvert_exporter": "python",
   "pygments_lexer": "ipython3",
   "version": "3.13.2"
  }
 },
 "nbformat": 4,
 "nbformat_minor": 5
}
